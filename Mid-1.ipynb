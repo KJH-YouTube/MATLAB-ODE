{
 "cells": [
  {
   "cell_type": "markdown",
   "metadata": {},
   "source": [
    "Write your student ID and name here:\n",
    "\n",
    "### ID: 201911035\n",
    "### Name: Jinhwi Kim"
   ]
  },
  {
   "cell_type": "markdown",
   "metadata": {},
   "source": [
    "# 1-1. Implement `find_ten_largest` method. (5 points)\n",
    "\n",
    "Implmenet an algorithm that finds the ten largest elements in the give list `s`. Your algorithm must be as efficient as possible.\n",
    "\n",
    "* `s`: a list of N elements. Assume there could be some duplicated elements in s.\n",
    "* return: a list of the ten largest elements in the list `s`, in a decreasing order."
   ]
  },
  {
   "cell_type": "code",
   "execution_count": 11,
   "metadata": {},
   "outputs": [],
   "source": [
    "# DO NOT TOUCH THIS CELL\n",
    "import random\n",
    "\n",
    "# This is an O(n*log(n)) algorithm. Simple, but not the optimal.\n",
    "def rand_list(n, rng):\n",
    "    return random.sample(range(rng), n)\n",
    "\n",
    "# This is an O(n*log(n)) algorithm. Simple, but not the optimal.\n",
    "def find_ten_largest_ground_truth(s):  \n",
    "    return list(reversed(sorted(s)[-10:]))"
   ]
  },
  {
   "cell_type": "code",
   "execution_count": 13,
   "metadata": {},
   "outputs": [
    {
     "name": "stdout",
     "output_type": "stream",
     "text": [
      "Your code    - [9856, 9607, 9295, 9231, 9138, 9135, 9067, 8966, 8878, 8823]\n",
      "Ground truth - [9856, 9607, 9295, 9231, 9138, 9135, 9067, 8966, 8878, 8823]\n"
     ]
    }
   ],
   "source": [
    "# EDIT THIS CELL \n",
    "########################################### 1-1 start\n",
    "def quickSort(lst, reverse = False):\n",
    "    lessGroup = []\n",
    "    equalGroup = []\n",
    "    greaterGroup = []\n",
    "    \n",
    "    if len(lst) > 1:\n",
    "        pivot = lst[0]\n",
    "        for element in lst:\n",
    "            if element > pivot:\n",
    "                greaterGroup.append(element)\n",
    "            elif element < pivot:\n",
    "                lessGroup.append(element)\n",
    "            else:\n",
    "                equalGroup.append(element)\n",
    "        if reverse:\n",
    "            return quickSort(greaterGroup) + equalGroup + quickSort(lessGroup)\n",
    "        else:\n",
    "            return quickSort(lessGroup) + equalGroup + quickSort(greaterGroup)\n",
    "\n",
    "    else:\n",
    "        return lst\n",
    "\n",
    "\n",
    "def find_ten_largest(s):\n",
    "    temp = quickSort(s, reverse = True) # Quick Sort: O(nlog(n))\n",
    "    return temp[:10]\n",
    "########################################### 1-1 end\n",
    "\n",
    "# You can test your code here\n",
    "rnd_numbers = rand_list(100, 10000)\n",
    "\n",
    "#print(quickSort(rnd_numbers))\n",
    "print(f'Your code    - {find_ten_largest(rnd_numbers)}')\n",
    "print(f'Ground truth - {find_ten_largest_ground_truth(rnd_numbers)}')"
   ]
  },
  {
   "cell_type": "markdown",
   "metadata": {},
   "source": [
    "# 1-2. Experimental running time analysis (5 points)\n",
    "Analyze the running time of your `find_ten_largest()` method, using experimental method for its running time.\n",
    "\n",
    "* Hint: use `time()` for measuring the execution time of your code.\n",
    "* In the list `n`, put some numbers of your choice of the problem sizes (make it large if your `time()` doesn't working well for small problems.)\n",
    "* In the `ex_time`, put the measured running time."
   ]
  },
  {
   "cell_type": "markdown",
   "metadata": {},
   "source": [
    "You can visualize your result using the following `plot_running_time()` method.\n",
    "\n",
    "For example, you generated the results with five problem sizes as like:\n",
    "```python\n",
    "n = [10, 20, 30, 40, 50]\n",
    "ex_time = [503, 892, 1448, 2049, 2403]\n",
    "```\n",
    "\n",
    "Then your plot will be like:"
   ]
  },
  {
   "cell_type": "code",
   "execution_count": null,
   "metadata": {
    "scrolled": false
   },
   "outputs": [],
   "source": [
    "# DO NOT TOUCH THIS CELL\n",
    "import matplotlib.pyplot as plt\n",
    "\n",
    "def plot_running_time(problem_sizes, times):\n",
    "    plt.scatter(problem_sizes, times)\n",
    "    plt.show()\n",
    "    \n",
    "plot_running_time([10, 20, 30, 40, 50],[503, 892, 1448, 2049, 2403])"
   ]
  },
  {
   "cell_type": "code",
   "execution_count": null,
   "metadata": {},
   "outputs": [],
   "source": [
    "########################################### 1-2 start\n",
    "# EDIT THIS CELL\n",
    "\n",
    "from time import time\n",
    "n = [10, 100, 500, 1000, 6000,  9000, 10000, 15000, 20000]\n",
    "#n = [10, 100, 500, 1000, 6000,  9000, 10000, 15000, 20000, 500000]\n",
    "ex_time = []\n",
    "\n",
    "\n",
    "for p_s in n:\n",
    "    # Implement here\n",
    "    listTemp = rand_list(p_s, 1000000)\n",
    "    TIME1 = time()\n",
    "    find_ten_largest(listTemp)\n",
    "    TIME2 = time()\n",
    "    ex_time.append(TIME2 - TIME1)\n",
    "    \n",
    "plot_running_time(n, ex_time)"
   ]
  },
  {
   "cell_type": "markdown",
   "metadata": {},
   "source": [
    "Examine as much as you want, and make a conclusion that which is the function your `find_ten_largest()` algorithm follows. (* the seven important functions: $1$, $\\log(n)$, $n$, $n\\log(n)$, $n^2$, $n^3$, $2^n$)"
   ]
  },
  {
   "cell_type": "markdown",
   "metadata": {},
   "source": [
    "# Make your conclusion from the running time analysis you've done above.\n",
    "\n",
    "[WRITE YOUR ANALYSIS HERE]\n",
    "\n",
    "## ANSWER:\n",
    "Before analyzing the results, I've excluded the exceptional cases which consume drastically low execution time (when comparing it with previous time result of short length list). There is one critical reason. What I want to analyze is about normal cases. In other words, I wanted to exclude best or worst cases.\n",
    "\n",
    "Therefore, The result of my code showed the plotted form similar with a parabola or a curve when I execute this code many times. However, it was not as inclined as $n^2$. Therefore, I can say that the code that I made has a time complexity $O(log(n))$."
   ]
  },
  {
   "cell_type": "code",
   "execution_count": null,
   "metadata": {},
   "outputs": [],
   "source": [
    "########################################### 1-2 end"
   ]
  },
  {
   "cell_type": "markdown",
   "metadata": {},
   "source": [
    "# 1-3. Theoritical Analysis\n",
    "\n",
    "Analyze the running time of your `find_ten_largest` method, in the Big-Oh notation."
   ]
  },
  {
   "cell_type": "code",
   "execution_count": null,
   "metadata": {},
   "outputs": [],
   "source": [
    "########################################### 1-3 start"
   ]
  },
  {
   "cell_type": "markdown",
   "metadata": {},
   "source": [
    "# Write your analysis.\n",
    "## 1. Method I apply for sort\n",
    "\n",
    "I've utilized the `quick sort` algorithm that I've memorized since when I studied Programming Basic: Python lectures. And, I've added an option of `reverse` in the quickSort function. In the cases of both `reverse = False` and `reverse = True`, the time complexity is identically $O(log(n))$.\n",
    "\n",
    "## 2. Analysis of Quick Sort\n",
    "\n",
    "The utilized `quick sort` algorithm is the traditional one. Most of all, let a value of `lst[0]` be in good pivot range, which exclude the values too near to side, (which learned in the class) and the probability is  $p,$ $where$  $0 < p < 1$ . And, let's assume that there is only one element at i-th depth node. Then, there are expected to be the number of $ip$ good pivot if partitioning is progressed $i$ times. After the partitionings, the number of the elements in $i$-th node can be expressed mathematically like the following equation: $(\\frac{1+p}{2})^{ip}n$. Therefore, I could complete the following equation: $(\\frac{1+p}{2})^{ip}n = 1$. Thus, $i$ is $i = \\frac{1}{p} log_{\\frac{2}{1+p}}n$. Thus, the Big-O notation of partitioning is $O(log(n))$. And, comparing pivot with every element should be performed $n$-times every node so that this time complexity is $O(n)$.\n",
    "\n",
    "As a result, the result of the time complexity is $O(\\frac{n}{p}log_{\\frac{2}{1+p}}n) = O(nlog(n))$"
   ]
  },
  {
   "cell_type": "code",
   "execution_count": null,
   "metadata": {},
   "outputs": [],
   "source": [
    "########################################### 1-3 end"
   ]
  },
  {
   "cell_type": "markdown",
   "metadata": {},
   "source": [
    "Good job! I recommend you to verify your code. From the menu, run `Kernel -> Restart & Run All`, and make sure all the cells are working correctly.\n",
    "\n",
    "Finally, export this notebook to a html file `File -> Download as -> html`)."
   ]
  },
  {
   "cell_type": "code",
   "execution_count": null,
   "metadata": {},
   "outputs": [],
   "source": []
  }
 ],
 "metadata": {
  "kernelspec": {
   "display_name": "Python 3",
   "language": "python",
   "name": "python3"
  },
  "language_info": {
   "codemirror_mode": {
    "name": "ipython",
    "version": 3
   },
   "file_extension": ".py",
   "mimetype": "text/x-python",
   "name": "python",
   "nbconvert_exporter": "python",
   "pygments_lexer": "ipython3",
   "version": "3.9.2"
  }
 },
 "nbformat": 4,
 "nbformat_minor": 2
}
