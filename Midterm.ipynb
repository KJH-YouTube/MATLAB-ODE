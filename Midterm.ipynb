{
 "cells": [
  {
   "cell_type": "markdown",
   "id": "interesting-swimming",
   "metadata": {},
   "source": [
    "Write your student ID and name here:\n",
    "\n",
    "### ID: 201911035\n",
    "### Name: Jinhwi Kim"
   ]
  },
  {
   "cell_type": "markdown",
   "id": "moderate-digit",
   "metadata": {},
   "source": [
    "# CSE203 Midterm Exam (40 points total)\n",
    "\n",
    "You may look up the textbook, lecture slides, and materials, but **PLEASE DO NOT SEARCH the internet** for answering those questions, **ON YOUR HONOR.**\n",
    "\n",
    "For reporting, submit a `StudentID-Name.zip` package with five files in:\n",
    "1. Your signed honor code.\n",
    "2. Two ipynb documents: `Mid-1.ipynb`, `Midterm.ipynb` with your answers filled in.\n",
    "3. Two html documents, exported from the two notebooks. (`File -> Download As -> HTML`)\n",
    "\n",
    "\n",
    "FYI: to use some advanced formatting in your answers, check this Jupyter Markdown cheatsheet: https://ingeh.medium.com/markdown-for-jupyter-notebooks-cheatsheet-386c05aeebed"
   ]
  },
  {
   "cell_type": "markdown",
   "id": "manufactured-gross",
   "metadata": {},
   "source": [
    "## 0. Honor Code (5 points)\n",
    "Submit an honor code (check the announcement on the course web page)."
   ]
  },
  {
   "cell_type": "markdown",
   "id": "friendly-eclipse",
   "metadata": {},
   "source": [
    "## 1. Finding the Ten Largest Value (15 points)\n",
    "Open the notebook `Mid-1.ipynb` and follow the instruction there.\n"
   ]
  },
  {
   "cell_type": "markdown",
   "id": "cognitive-polymer",
   "metadata": {},
   "source": [
    "## 2. Dynamically shirinking array (10 points)\n",
    "\n",
    "Assume a stack implemented in `DynamicArray`. When `push` is called with the fully filled array, it doubles its capacity. When `pop` is called, it shrinks the capacity to be half when its current capacity is $N$ and number of elements in the\n",
    "array goes below $N/4$."
   ]
  },
  {
   "cell_type": "markdown",
   "id": "certain-familiar",
   "metadata": {},
   "source": [
    "### 2-1. Write psuedocodes for `push` and `pop` operations. (5 points)\n",
    "\n",
    "*variables*\n",
    "* `L`: a list that stores the elements\n",
    "* `N`: current capacity, = `len(L)`\n",
    "* `size`: the number of items stored in the current stack."
   ]
  },
  {
   "cell_type": "markdown",
   "id": "cooperative-mambo",
   "metadata": {},
   "source": [
    "```\n",
    "Function push(element):\n",
    "    if N == size\n",
    "        T <- L.copy()    # new array T for L to be copied.\n",
    "        L   ⃪ new empty array of size 2×N\n",
    "        \n",
    "        for i <- 0 to size-1 do   # For extending the array\n",
    "           L[i] <- T[i]\n",
    "        \n",
    "        L[size] <- element\n",
    "        size <- size + 1\n",
    "        N <- 2xN\n",
    "    else\n",
    "        L[size] <- element\n",
    "        size <- size + 1\n",
    "```\n",
    "\n",
    "\n",
    "\n",
    "\n",
    "```\n",
    "Function pop():\n",
    "    if size-1 == N/4\n",
    "        o <- L[size]\n",
    "        T <- L.copy()\n",
    "        L <- new array if size N/2\n",
    "        \n",
    "        size <- size - 1\n",
    "        for i <- to size do    # For shrinking the array \n",
    "            L[i] <- T[i]\n",
    "        N <- N/2\n",
    "        \n",
    "    else\n",
    "        o <- L[size]\n",
    "        size <- size - 1\n",
    "        return o\n",
    "    \n",
    "```"
   ]
  },
  {
   "cell_type": "markdown",
   "id": "furnished-joining",
   "metadata": {},
   "source": [
    "### 2-2. Give a formal proof that the `pop` operation takes $O(1)$ time in amortized analysis. (5 points)"
   ]
  },
  {
   "cell_type": "markdown",
   "id": "utility-batman",
   "metadata": {},
   "source": [
    "#### ANSWER\n",
    "\n",
    "Assume that an array to have size $n$ is filled with $\\frac{n}{2}$ elements. And, imagine that we'll make this array empty using `pop()` function continuously. Then, the time complexity of `pop` is $O(1)$ if the `size` is not $N/4$ when the operation is called. And in the other case, which should shorten the capacity, the time complexity of `pop` is $O(n)$.\n",
    "\n",
    "\n",
    "At this time, we should know that `pop` operation of $O(1)$ should be operated as $\\frac{n}{4}$ times for the `pop` operation of $O(n)$. Thus, with this relation, execution time from $(i-1)th$ of $O(n)$ operation to $i-th$ of $O(n)$ operation is $(\\frac{1}{2})^{i}(\\frac{n}{4} + n)$.\n",
    "\n",
    "\n",
    "Therefore, calculating the total value,\n",
    "\n",
    "$$\\sum_{k=0}^{i}\\left ( \\frac{1}{2} \\right ) ^{k} \\left ( \\frac{5n}{4} \\right ) = \\left ( \\frac{5n}{4} \\right ) \\frac{\\frac{1}{2}}{1-\\frac{1}{2}} = \\frac{5n}{4}$$\n",
    "\n",
    "Thus, the total time $T(n)$ is\n",
    "\n",
    "$$ T(n) = \\frac{5n}{4} $$\n",
    "\n",
    "Thus, the amortized Big-Oh is\n",
    "\n",
    "$$ O \\left ( \\frac{T(n)}{n} \\right ) = \\left ( \\frac{5}{4} \\right ) = O(1) $$"
   ]
  },
  {
   "cell_type": "markdown",
   "id": "reserved-secondary",
   "metadata": {},
   "source": [
    "## 3. Heap (2 points)\n",
    "\n",
    "Using an array-based heap representation, fill in the items in the array after the following priority-queue operations, one-by-one."
   ]
  },
  {
   "cell_type": "markdown",
   "id": "proof-fields",
   "metadata": {},
   "source": [
    "### FILL IN THE NUMBERS HERE ###\n",
    "\n",
    "```\n",
    "add(5)     -> [ 5 ]\n",
    "add(10)    -> [ 5 , 10 ]\n",
    "add(11)    -> [ 5 , 10 , 11 ]\n",
    "add(3)     -> [ 3 , 5 , 11 , 10 ]\n",
    "remove_min -> [ 5 , 10 , 11 ] / ( 3 ) is returned.\n",
    "add(9)     -> [ 5 , 9 , 11 , 10 ]\n",
    "add(4)     -> [ 4 , 5 , 11 , 10 , 9 ]\n",
    "add(2)     -> [ 2 , 5 , 4 , 10 , 9 , 11 ]\n",
    "remove_min -> [ 4 , 5 , 11 , 10 , 9 ] / ( 2 ) is returned.\n",
    "remove_min -> [ 5 , 9 , 11 , 10 ] / ( 4 ) is returned.\n",
    "remove_min -> [ 9 , 10 , 11 ] / ( 5 ) is returned.\n",
    "```"
   ]
  },
  {
   "cell_type": "markdown",
   "id": "naked-salad",
   "metadata": {},
   "source": [
    "## 4. Quick Sort (3 points)\n",
    "\n",
    "Show that the best-case running time of quick-sort on a sequence of size $n$ with distinct elements is $\\Omega(n \\log n)$."
   ]
  },
  {
   "cell_type": "markdown",
   "id": "circular-workstation",
   "metadata": {},
   "source": [
    "#### ANSWER:\n",
    "\n",
    "Assume that the best-case of the quick sort is choosing the pivot as a value of the middle index. For example, if `lst` is a list of size $n$, then the pivot is `lst[n//2]`, which `n//2` means taking only quotient values. In every partitioning, it needs to compare all elements with the **pivot** value so that this growth rate is $n$. And, let the partitioning depth be $i$. Then, Quick Sort algorithm should partition the list until $\\left ( \\frac{1}{2} \\right )^{i} n$ elements remain about the given list. That's because of letting the partitioned piece have size less than 1.\n",
    "\n",
    "Thus, the depth $i$ will be like:\n",
    "\n",
    "$$ \\left ( \\frac{1}{2} \\right )^{i}n = 1 $$\n",
    "\n",
    "$$ i = log_{2}{n} = log(n) $$\n",
    "\n",
    "And, going down up to $i-th$ depth, the comparison should be operated every depth. Thus, the growth rate $f(n)$ is $nlog(n)$.\n",
    "\n",
    "\n",
    "In the meantime, this growth rate satisfies the following relation:\n",
    "\n",
    "\n",
    "$$ f(n) = n\\log{n} \\geq c \\cdot n\\log(n)  \\;\\;\\;\\; (\\; s.t \\;\\; c > 0 \\;\\; \\cap \\;\\; n \\geq n_{0} \\;\\; \\cap \\;\\; n \\in \\mathbb{N} \\;) $$\n",
    "\n",
    "\n",
    "And, integer constants $c$ which satisfies the above relation exist at least one.\n",
    "Therefore, we can say that Quick Sort algorithm of the best case has time complexity $\\Omega(n\\log{n})$\n",
    "\n"
   ]
  },
  {
   "cell_type": "markdown",
   "id": "attractive-combination",
   "metadata": {},
   "source": [
    "## 5. Quick Select (3 points)\n",
    "\n",
    "Show that the worst-case running time of quick-select on an $n$-element sequence is $\\Omega(n^2)$"
   ]
  },
  {
   "cell_type": "markdown",
   "id": "going-investing",
   "metadata": {},
   "source": [
    "#### ANSWER:\n",
    "\n",
    "About the quick select algorithm, the worst-case is the case choosing the pivot as a minimum or maximum value every partition step and the $k$ as a maximum or minimum sequential value. In the meantime, it is the case that the wanted value is placed in the long partition. In other words, the worst case happens when the given list is the *sorted list*. For example, the worst-case includes a case of the following figure.\n",
    "\n",
    "\n",
    "\n",
    "```\n",
    "depth  k    initial list\n",
    "  0    n   [=======================] \n",
    "  1   n-1  [p] [=====================]\n",
    "                                    ↑(wanted value)\n",
    "  2   n-2      [p] [===================]\n",
    "                                      ↑(wanted value)\n",
    "[Figure 1]\n",
    "It is the case that the algorithm finds out n-th number and the the pivots are set as minimum values every depth. In detailed, it satisfies that, in the partition of zero depth, k=n, |L| = 0, |E| = 1 and |G| = n-1. Therefore, on the first depth, k' = k - |L| - |E| = n-1 and the partitioned list have the n-1 length.\n",
    "```\n",
    "\n",
    "Like this example, in this case, let the length of the initial list be $n$. Then, the partitioning should be operated $n-1$ times for the worst-case. Additionally, on the $i-th$ depth, the $i-1$ times comparison should be performed. Thus, assuming one comparison consumes one unit time,the worst case of Quick Select has the running time satisfying:\n",
    "\n",
    "$$ f(n)\\;=\\;\\sum_{i=1}^{n-1}i\\;=\\frac{(n-1)n}{2} $$\n",
    "\n",
    "$$ f(n)\\;=\\;\\frac{n^2 - n}{2} \\;\\geq\\; c \\cdot n^2 \\;\\;\\;\\; (\\; s.t \\;\\; c > 0 \\;\\; \\cap \\;\\; n \\geq n_{0} \\;\\; \\cap \\;\\; n \\in \\mathbb{N} \\;) $$\n",
    "\n",
    "Any constant $c$ which satisfies the above relation exists so that the time complexity of the worst case about Quick Select is $\\Omega(n^2)$."
   ]
  },
  {
   "cell_type": "markdown",
   "id": "following-excess",
   "metadata": {},
   "source": [
    "## 6. Binary Tree (2 points)\n",
    "\n",
    "Draw a binary tree T, such that:\n",
    " * Each internal node of T stores a single character.\n",
    " * A postorder traversal of T yields CSE203MID.\n",
    " * An inorder traversal of T yields CESD230IM."
   ]
  },
  {
   "cell_type": "markdown",
   "id": "spanish-headquarters",
   "metadata": {},
   "source": [
    "#### DRAW YOUR TREE HERE\n",
    "\n",
    "\n",
    "```\n",
    "        D\n",
    "      -----\n",
    "     E     I\n",
    "   ----    ----\n",
    "  C   S    3   M\n",
    "          --\n",
    "         2  0\n",
    "```\n",
    "\n",
    "\n",
    "\n",
    "\n",
    "```\n",
    "EXAMPLE) make sure the overall structure is unambiguous\n",
    "                A\n",
    "              -----\n",
    "             B     C \n",
    "           -----  -----\n",
    "           D   E  F   G\n",
    "          -- \n",
    "         H  I\n",
    "     \n",
    "```"
   ]
  },
  {
   "cell_type": "code",
   "execution_count": null,
   "id": "signal-appraisal",
   "metadata": {},
   "outputs": [],
   "source": []
  }
 ],
 "metadata": {
  "kernelspec": {
   "display_name": "Python 3",
   "language": "python",
   "name": "python3"
  },
  "language_info": {
   "codemirror_mode": {
    "name": "ipython",
    "version": 3
   },
   "file_extension": ".py",
   "mimetype": "text/x-python",
   "name": "python",
   "nbconvert_exporter": "python",
   "pygments_lexer": "ipython3",
   "version": "3.9.2"
  }
 },
 "nbformat": 4,
 "nbformat_minor": 5
}
